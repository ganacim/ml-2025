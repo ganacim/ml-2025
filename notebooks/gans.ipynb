{
 "cells": [
  {
   "cell_type": "code",
   "execution_count": 1,
   "id": "0",
   "metadata": {},
   "outputs": [],
   "source": [
    "%matplotlib widget\n",
    "from matplotlib import pyplot as plt\n",
    "import numpy as np\n",
    "import mlc\n",
    "\n",
    "# import dependencies for PCA\n",
    "#from sklearn.decomposition import PCA\n",
    "#from sklearn.manifold import TSNE\n",
    "\n",
    "#from mlc.data.mnist.dataset import MNIST\n",
    "#from mlc.util.model import load_checkpoint"
   ]
  },
  {
   "cell_type": "code",
   "execution_count": 4,
   "id": "73c8e57d",
   "metadata": {},
   "outputs": [
    {
     "name": "stdout",
     "output_type": "stream",
     "text": [
      "CNNGAN: Image channels: 3, Image dim: 64, Latent dim: 128, Layer channels: 24, Use batchnorm: both\n"
     ]
    },
    {
     "data": {
      "text/plain": [
       "CNNGAN(\n",
       "  (generator): Sequential(\n",
       "    (0): Linear(in_features=128, out_features=384, bias=False)\n",
       "    (1): LeakyReLU(negative_slope=0.01)\n",
       "    (2): Unflatten(dim=1, unflattened_size=(24, 4, 4))\n",
       "    (3): ConvTranspose2d(24, 24, kernel_size=(3, 3), stride=(2, 2), padding=(1, 1), output_padding=(1, 1), bias=False)\n",
       "    (4): BatchNorm1d(24, eps=1e-05, momentum=0.1, affine=True, track_running_stats=True)\n",
       "    (5): LeakyReLU(negative_slope=0.01)\n",
       "    (6): Conv2d(24, 24, kernel_size=(3, 3), stride=(1, 1), padding=(1, 1))\n",
       "    (7): BatchNorm1d(24, eps=1e-05, momentum=0.1, affine=True, track_running_stats=True)\n",
       "    (8): LeakyReLU(negative_slope=0.01)\n",
       "    (9): ConvTranspose2d(24, 24, kernel_size=(3, 3), stride=(2, 2), padding=(1, 1), output_padding=(1, 1), bias=False)\n",
       "    (10): BatchNorm1d(24, eps=1e-05, momentum=0.1, affine=True, track_running_stats=True)\n",
       "    (11): LeakyReLU(negative_slope=0.01)\n",
       "    (12): Conv2d(24, 24, kernel_size=(3, 3), stride=(1, 1), padding=(1, 1))\n",
       "    (13): BatchNorm1d(24, eps=1e-05, momentum=0.1, affine=True, track_running_stats=True)\n",
       "    (14): LeakyReLU(negative_slope=0.01)\n",
       "    (15): ConvTranspose2d(24, 24, kernel_size=(3, 3), stride=(2, 2), padding=(1, 1), output_padding=(1, 1), bias=False)\n",
       "    (16): BatchNorm1d(24, eps=1e-05, momentum=0.1, affine=True, track_running_stats=True)\n",
       "    (17): LeakyReLU(negative_slope=0.01)\n",
       "    (18): Conv2d(24, 24, kernel_size=(3, 3), stride=(1, 1), padding=(1, 1))\n",
       "    (19): BatchNorm1d(24, eps=1e-05, momentum=0.1, affine=True, track_running_stats=True)\n",
       "    (20): LeakyReLU(negative_slope=0.01)\n",
       "    (21): ConvTranspose2d(24, 24, kernel_size=(3, 3), stride=(2, 2), padding=(1, 1), output_padding=(1, 1), bias=False)\n",
       "    (22): BatchNorm1d(24, eps=1e-05, momentum=0.1, affine=True, track_running_stats=True)\n",
       "    (23): LeakyReLU(negative_slope=0.01)\n",
       "    (24): Conv2d(24, 24, kernel_size=(3, 3), stride=(1, 1), padding=(1, 1))\n",
       "    (25): BatchNorm1d(24, eps=1e-05, momentum=0.1, affine=True, track_running_stats=True)\n",
       "    (26): LeakyReLU(negative_slope=0.01)\n",
       "    (27): Conv2d(24, 3, kernel_size=(1, 1), stride=(1, 1), padding=same)\n",
       "    (28): Tanh()\n",
       "  )\n",
       "  (discriminator): Sequential(\n",
       "    (0): Conv2d(3, 24, kernel_size=(3, 3), stride=(1, 1), padding=(1, 1), bias=False)\n",
       "    (1): LeakyReLU(negative_slope=0.01)\n",
       "    (2): Conv2d(24, 24, kernel_size=(3, 3), stride=(2, 2), padding=(1, 1), bias=False)\n",
       "    (3): BatchNorm1d(24, eps=1e-05, momentum=0.1, affine=True, track_running_stats=True)\n",
       "    (4): LeakyReLU(negative_slope=0.01)\n",
       "    (5): Conv2d(24, 24, kernel_size=(3, 3), stride=(2, 2), padding=(1, 1), bias=False)\n",
       "    (6): BatchNorm1d(24, eps=1e-05, momentum=0.1, affine=True, track_running_stats=True)\n",
       "    (7): LeakyReLU(negative_slope=0.01)\n",
       "    (8): Conv2d(24, 24, kernel_size=(3, 3), stride=(2, 2), padding=(1, 1), bias=False)\n",
       "    (9): BatchNorm1d(24, eps=1e-05, momentum=0.1, affine=True, track_running_stats=True)\n",
       "    (10): LeakyReLU(negative_slope=0.01)\n",
       "    (11): Conv2d(24, 24, kernel_size=(3, 3), stride=(2, 2), padding=(1, 1), bias=False)\n",
       "    (12): BatchNorm1d(24, eps=1e-05, momentum=0.1, affine=True, track_running_stats=True)\n",
       "    (13): LeakyReLU(negative_slope=0.01)\n",
       "    (14): AdaptiveAvgPool2d(output_size=(1, 1))\n",
       "  )\n",
       ")"
      ]
     },
     "execution_count": 4,
     "metadata": {},
     "output_type": "execute_result"
    }
   ],
   "source": [
    "import argparse\n",
    "from mlc.model.cnn_gan.model import CNNGAN\n",
    "\n",
    "# Create parser and add arguments\n",
    "parser = argparse.ArgumentParser()\n",
    "CNNGAN.add_arguments(parser)\n",
    "\n",
    "# Parse empty args to use all defaults\n",
    "args = parser.parse_args([])\n",
    "\n",
    "# Convert Namespace to dict\n",
    "args_dict = vars(args)\n",
    "\n",
    "# Instantiate model with args\n",
    "model = CNNGAN(args_dict)\n",
    "model"
   ]
  },
  {
   "cell_type": "code",
   "execution_count": 12,
   "id": "fb88db20",
   "metadata": {},
   "outputs": [
    {
     "name": "stdout",
     "output_type": "stream",
     "text": [
      "Linear output shape: torch.Size([2, 384])\n",
      "LeakyReLU output shape: torch.Size([2, 384])\n",
      "Unflatten output shape: torch.Size([2, 24, 4, 4])\n",
      "ConvTranspose2d output shape: torch.Size([2, 24, 8, 8])\n"
     ]
    },
    {
     "ename": "ValueError",
     "evalue": "expected 2D or 3D input (got 4D input)",
     "output_type": "error",
     "traceback": [
      "\u001b[31m---------------------------------------------------------------------------\u001b[39m",
      "\u001b[31mValueError\u001b[39m                                Traceback (most recent call last)",
      "\u001b[36mCell\u001b[39m\u001b[36m \u001b[39m\u001b[32mIn[12]\u001b[39m\u001b[32m, line 4\u001b[39m\n\u001b[32m      2\u001b[39m x = torch.from_numpy(x)\n\u001b[32m      3\u001b[39m \u001b[38;5;28;01mfor\u001b[39;00m layer \u001b[38;5;129;01min\u001b[39;00m model.generator:\n\u001b[32m----> \u001b[39m\u001b[32m4\u001b[39m     x = \u001b[43mlayer\u001b[49m\u001b[43m(\u001b[49m\u001b[43mx\u001b[49m\u001b[43m)\u001b[49m\n\u001b[32m      5\u001b[39m     \u001b[38;5;28mprint\u001b[39m(\u001b[33mf\u001b[39m\u001b[33m\"\u001b[39m\u001b[38;5;132;01m{\u001b[39;00mlayer.\u001b[34m__class__\u001b[39m.\u001b[34m__name__\u001b[39m\u001b[38;5;132;01m}\u001b[39;00m\u001b[33m output shape: \u001b[39m\u001b[38;5;132;01m{\u001b[39;00mx.shape\u001b[38;5;132;01m}\u001b[39;00m\u001b[33m\"\u001b[39m)\n",
      "\u001b[36mFile \u001b[39m\u001b[32mc:\\Users\\hss19\\anaconda3\\envs\\ml-torch\\Lib\\site-packages\\torch\\nn\\modules\\module.py:1739\u001b[39m, in \u001b[36mModule._wrapped_call_impl\u001b[39m\u001b[34m(self, *args, **kwargs)\u001b[39m\n\u001b[32m   1737\u001b[39m     \u001b[38;5;28;01mreturn\u001b[39;00m \u001b[38;5;28mself\u001b[39m._compiled_call_impl(*args, **kwargs)  \u001b[38;5;66;03m# type: ignore[misc]\u001b[39;00m\n\u001b[32m   1738\u001b[39m \u001b[38;5;28;01melse\u001b[39;00m:\n\u001b[32m-> \u001b[39m\u001b[32m1739\u001b[39m     \u001b[38;5;28;01mreturn\u001b[39;00m \u001b[38;5;28;43mself\u001b[39;49m\u001b[43m.\u001b[49m\u001b[43m_call_impl\u001b[49m\u001b[43m(\u001b[49m\u001b[43m*\u001b[49m\u001b[43margs\u001b[49m\u001b[43m,\u001b[49m\u001b[43m \u001b[49m\u001b[43m*\u001b[49m\u001b[43m*\u001b[49m\u001b[43mkwargs\u001b[49m\u001b[43m)\u001b[49m\n",
      "\u001b[36mFile \u001b[39m\u001b[32mc:\\Users\\hss19\\anaconda3\\envs\\ml-torch\\Lib\\site-packages\\torch\\nn\\modules\\module.py:1750\u001b[39m, in \u001b[36mModule._call_impl\u001b[39m\u001b[34m(self, *args, **kwargs)\u001b[39m\n\u001b[32m   1745\u001b[39m \u001b[38;5;66;03m# If we don't have any hooks, we want to skip the rest of the logic in\u001b[39;00m\n\u001b[32m   1746\u001b[39m \u001b[38;5;66;03m# this function, and just call forward.\u001b[39;00m\n\u001b[32m   1747\u001b[39m \u001b[38;5;28;01mif\u001b[39;00m \u001b[38;5;129;01mnot\u001b[39;00m (\u001b[38;5;28mself\u001b[39m._backward_hooks \u001b[38;5;129;01mor\u001b[39;00m \u001b[38;5;28mself\u001b[39m._backward_pre_hooks \u001b[38;5;129;01mor\u001b[39;00m \u001b[38;5;28mself\u001b[39m._forward_hooks \u001b[38;5;129;01mor\u001b[39;00m \u001b[38;5;28mself\u001b[39m._forward_pre_hooks\n\u001b[32m   1748\u001b[39m         \u001b[38;5;129;01mor\u001b[39;00m _global_backward_pre_hooks \u001b[38;5;129;01mor\u001b[39;00m _global_backward_hooks\n\u001b[32m   1749\u001b[39m         \u001b[38;5;129;01mor\u001b[39;00m _global_forward_hooks \u001b[38;5;129;01mor\u001b[39;00m _global_forward_pre_hooks):\n\u001b[32m-> \u001b[39m\u001b[32m1750\u001b[39m     \u001b[38;5;28;01mreturn\u001b[39;00m \u001b[43mforward_call\u001b[49m\u001b[43m(\u001b[49m\u001b[43m*\u001b[49m\u001b[43margs\u001b[49m\u001b[43m,\u001b[49m\u001b[43m \u001b[49m\u001b[43m*\u001b[49m\u001b[43m*\u001b[49m\u001b[43mkwargs\u001b[49m\u001b[43m)\u001b[49m\n\u001b[32m   1752\u001b[39m result = \u001b[38;5;28;01mNone\u001b[39;00m\n\u001b[32m   1753\u001b[39m called_always_called_hooks = \u001b[38;5;28mset\u001b[39m()\n",
      "\u001b[36mFile \u001b[39m\u001b[32mc:\\Users\\hss19\\anaconda3\\envs\\ml-torch\\Lib\\site-packages\\torch\\nn\\modules\\batchnorm.py:160\u001b[39m, in \u001b[36m_BatchNorm.forward\u001b[39m\u001b[34m(self, input)\u001b[39m\n\u001b[32m    159\u001b[39m \u001b[38;5;28;01mdef\u001b[39;00m\u001b[38;5;250m \u001b[39m\u001b[34mforward\u001b[39m(\u001b[38;5;28mself\u001b[39m, \u001b[38;5;28minput\u001b[39m: Tensor) -> Tensor:\n\u001b[32m--> \u001b[39m\u001b[32m160\u001b[39m     \u001b[38;5;28;43mself\u001b[39;49m\u001b[43m.\u001b[49m\u001b[43m_check_input_dim\u001b[49m\u001b[43m(\u001b[49m\u001b[38;5;28;43minput\u001b[39;49m\u001b[43m)\u001b[49m\n\u001b[32m    162\u001b[39m     \u001b[38;5;66;03m# exponential_average_factor is set to self.momentum\u001b[39;00m\n\u001b[32m    163\u001b[39m     \u001b[38;5;66;03m# (when it is available) only so that it gets updated\u001b[39;00m\n\u001b[32m    164\u001b[39m     \u001b[38;5;66;03m# in ONNX graph when this node is exported to ONNX.\u001b[39;00m\n\u001b[32m    165\u001b[39m     \u001b[38;5;28;01mif\u001b[39;00m \u001b[38;5;28mself\u001b[39m.momentum \u001b[38;5;129;01mis\u001b[39;00m \u001b[38;5;28;01mNone\u001b[39;00m:\n",
      "\u001b[36mFile \u001b[39m\u001b[32mc:\\Users\\hss19\\anaconda3\\envs\\ml-torch\\Lib\\site-packages\\torch\\nn\\modules\\batchnorm.py:341\u001b[39m, in \u001b[36mBatchNorm1d._check_input_dim\u001b[39m\u001b[34m(self, input)\u001b[39m\n\u001b[32m    339\u001b[39m \u001b[38;5;28;01mdef\u001b[39;00m\u001b[38;5;250m \u001b[39m\u001b[34m_check_input_dim\u001b[39m(\u001b[38;5;28mself\u001b[39m, \u001b[38;5;28minput\u001b[39m):\n\u001b[32m    340\u001b[39m     \u001b[38;5;28;01mif\u001b[39;00m \u001b[38;5;28minput\u001b[39m.dim() != \u001b[32m2\u001b[39m \u001b[38;5;129;01mand\u001b[39;00m \u001b[38;5;28minput\u001b[39m.dim() != \u001b[32m3\u001b[39m:\n\u001b[32m--> \u001b[39m\u001b[32m341\u001b[39m         \u001b[38;5;28;01mraise\u001b[39;00m \u001b[38;5;167;01mValueError\u001b[39;00m(\u001b[33mf\u001b[39m\u001b[33m\"\u001b[39m\u001b[33mexpected 2D or 3D input (got \u001b[39m\u001b[38;5;132;01m{\u001b[39;00m\u001b[38;5;28minput\u001b[39m.dim()\u001b[38;5;132;01m}\u001b[39;00m\u001b[33mD input)\u001b[39m\u001b[33m\"\u001b[39m)\n",
      "\u001b[31mValueError\u001b[39m: expected 2D or 3D input (got 4D input)"
     ]
    }
   ],
   "source": [
    "x = np.random.randn(2, 128).astype(np.float32)\n",
    "x = torch.from_numpy(x)\n",
    "for layer in model.generator:\n",
    "    x = layer(x)\n",
    "    print(f\"{layer.__class__.__name__} output shape: {x.shape}\")"
   ]
  },
  {
   "cell_type": "code",
   "execution_count": null,
   "id": "2",
   "metadata": {},
   "outputs": [],
   "source": [
    "# get validation data\n",
    "dataset = MNIST({\"noise\": 0, \"normalize\": True})\n",
    "validation_data = dataset.get_fold(\"train\")"
   ]
  },
  {
   "cell_type": "code",
   "execution_count": null,
   "id": "3",
   "metadata": {},
   "outputs": [],
   "source": [
    "fig, ax = plt.subplots(1, 10, figsize=(10, 2), sharey=True)\n",
    "# show some data\n",
    "for i in range(10):\n",
    "    data, _ = validation_data[i]\n",
    "    with torch.no_grad():\n",
    "        data = data.unsqueeze(0)\n",
    "    ax[i].imshow(data.squeeze().cpu().numpy(), cmap=\"gray\")\n",
    "    ax[i].axis(\"off\")"
   ]
  },
  {
   "cell_type": "code",
   "execution_count": null,
   "id": "4",
   "metadata": {},
   "outputs": [],
   "source": [
    "G = model.generator.to(\"cuda\")\n",
    "G = G.eval()"
   ]
  },
  {
   "cell_type": "code",
   "execution_count": null,
   "id": "5",
   "metadata": {},
   "outputs": [],
   "source": [
    "Z = torch.randn(100, model.latent_dimension()).to(\"cuda\") * 0.1\n",
    "# normalize Z\n",
    "Z = (Z - torch.tensor([0.5]).to(\"cuda\")) / torch.tensor([0.5]).to(\"cuda\")\n",
    "X = G(Z).cpu().detach().numpy()\n",
    "# show generated data\n",
    "fig, ax = plt.subplots(10, 10, figsize=(10, 10), sharey=True)\n",
    "for i in range(10):\n",
    "    for j in range(10):\n",
    "        ax[i, j].imshow(X[i * 10 + j].reshape(28, 28), cmap=\"gray\")\n",
    "        ax[i, j].axis(\"off\")\n",
    "plt.show()"
   ]
  },
  {
   "cell_type": "code",
   "execution_count": null,
   "id": "6",
   "metadata": {},
   "outputs": [],
   "source": [
    "z00, z01 = Z[27], Z[28]\n",
    "# interpolate between two latent vectors\n",
    "Z_interp = []\n",
    "for alpha in np.linspace(0, 1, 10):\n",
    "    z = (1 - alpha) * z00 + alpha * z01\n",
    "    Z_interp.append(z)\n",
    "\n",
    "# show interpolated data\n",
    "X_interp = G(torch.stack(Z_interp)).cpu().detach().numpy()\n",
    "fig, ax = plt.subplots(1, 10, figsize=(10, 2), sharey=True)\n",
    "for i in range(10):\n",
    "    ax[i].imshow(X_interp[i].reshape(28, 28), cmap=\"gray\")\n",
    "    ax[i].axis(\"off\")\n",
    "plt.show()"
   ]
  },
  {
   "cell_type": "code",
   "execution_count": null,
   "id": "7",
   "metadata": {},
   "outputs": [],
   "source": [
    "z00, z01 = Z[27], Z[28]\n",
    "z10, z11 = Z[70], Z[56]\n",
    "\n",
    "# bilinear interpolation between two latent vectors\n",
    "Z_interp = []\n",
    "for alpha in np.linspace(0, 1, 10):\n",
    "    for beta in np.linspace(0, 1, 10):\n",
    "        z = (1 - alpha) * (1 - beta) * z00 + (1 - alpha) * beta * z01 + alpha * (1 - beta) * z10 + alpha * beta * z11\n",
    "        Z_interp.append(z)\n",
    "# show interpolated data\n",
    "X_interp = G(torch.stack(Z_interp)).cpu().detach().numpy()\n",
    "fig, ax = plt.subplots(10, 10, figsize=(10, 10), sharey=True)\n",
    "for i in range(10):\n",
    "    for j in range(10):\n",
    "        ax[i, j].imshow(X_interp[10 * i + j].reshape(28, 28), cmap=\"gray\")\n",
    "        ax[i, j].axis(\"off\")\n",
    "plt.show()"
   ]
  },
  {
   "cell_type": "code",
   "execution_count": null,
   "id": "8",
   "metadata": {},
   "outputs": [],
   "source": [
    "# 7 - 1 + 4\n",
    "z1 = Z[19]\n",
    "z2 = Z[49]\n",
    "z3 = Z[98]\n",
    "\n",
    "# apply model to the latent vectors\n",
    "X1 = G(z1.unsqueeze(0)).cpu().detach().numpy()\n",
    "X2 = G(z2.unsqueeze(0)).cpu().detach().numpy()\n",
    "X3 = G(z3.unsqueeze(0)).cpu().detach().numpy()\n",
    "# show the generated data\n",
    "fig, ax = plt.subplots(1, 3, figsize=(6, 2), sharey=True)\n",
    "ax[0].imshow(X1.reshape(28, 28), cmap=\"gray\")\n",
    "ax[0].axis(\"off\")\n",
    "ax[1].imshow(X2.reshape(28, 28), cmap=\"gray\")\n",
    "ax[1].axis(\"off\")\n",
    "ax[2].imshow(X3.reshape(28, 28), cmap=\"gray\")\n",
    "ax[2].axis(\"off\")\n",
    "plt.show()\n",
    "\n",
    "z_r = z1 - z2 + z3\n",
    "# apply model to the resulting latent vector\n",
    "X_r = G(z_r.unsqueeze(0)).cpu().detach().numpy()\n",
    "# show the generated data\n",
    "fig, ax = plt.subplots(1, 1, figsize=(2, 2), sharey=True)\n",
    "ax.imshow(X_r.reshape(28, 28), cmap=\"gray\")\n",
    "ax.axis(\"off\")\n",
    "plt.show()"
   ]
  }
 ],
 "metadata": {
  "kernelspec": {
   "display_name": "ml-torch",
   "language": "python",
   "name": "python3"
  },
  "language_info": {
   "codemirror_mode": {
    "name": "ipython",
    "version": 3
   },
   "file_extension": ".py",
   "mimetype": "text/x-python",
   "name": "python",
   "nbconvert_exporter": "python",
   "pygments_lexer": "ipython3",
   "version": "3.12.11"
  }
 },
 "nbformat": 4,
 "nbformat_minor": 5
}
