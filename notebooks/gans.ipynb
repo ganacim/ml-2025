{
 "cells": [
  {
   "cell_type": "code",
   "execution_count": null,
   "id": "0",
   "metadata": {},
   "outputs": [],
   "source": [
    "%matplotlib widget\n",
    "from matplotlib import pyplot as plt\n",
    "import numpy as np\n",
    "import torch\n",
    "\n",
    "# import dependencies for PCA\n",
    "from sklearn.decomposition import PCA\n",
    "from sklearn.manifold import TSNE\n",
    "\n",
    "from mlc.data.mnist.dataset import MNIST\n",
    "from mlc.util.model import load_checkpoint"
   ]
  },
  {
   "cell_type": "code",
   "execution_count": null,
   "id": "1",
   "metadata": {},
   "outputs": [],
   "source": [
    "model_version = \"20250523114243213422\"  # good\n",
    "model = load_checkpoint(\"mlp_gan\", model_version, \"latest\")\n",
    "print(model.name())"
   ]
  },
  {
   "cell_type": "code",
   "execution_count": null,
   "id": "2",
   "metadata": {},
   "outputs": [],
   "source": [
    "# get validation data\n",
    "dataset = MNIST({\"noise\": 0, \"normalize\": True})\n",
    "validation_data = dataset.get_fold(\"train\")"
   ]
  },
  {
   "cell_type": "code",
   "execution_count": null,
   "id": "3",
   "metadata": {},
   "outputs": [],
   "source": [
    "fig, ax = plt.subplots(1, 10, figsize=(10, 2), sharey=True)\n",
    "# show some data\n",
    "for i in range(10):\n",
    "    data, _ = validation_data[i]\n",
    "    with torch.no_grad():\n",
    "        data = data.unsqueeze(0)\n",
    "    ax[i].imshow(data.squeeze().cpu().numpy(), cmap=\"gray\")\n",
    "    ax[i].axis(\"off\")"
   ]
  },
  {
   "cell_type": "code",
   "execution_count": null,
   "id": "4",
   "metadata": {},
   "outputs": [],
   "source": [
    "G = model.generator.to(\"cuda\")\n",
    "G = G.eval()"
   ]
  },
  {
   "cell_type": "code",
   "execution_count": null,
   "id": "5",
   "metadata": {},
   "outputs": [],
   "source": [
    "Z = torch.randn(100, model.latent_dimension()).to(\"cuda\") * 0.1\n",
    "# normalize Z\n",
    "Z = (Z - torch.tensor([0.5]).to(\"cuda\")) / torch.tensor([0.5]).to(\"cuda\")\n",
    "X = G(Z).cpu().detach().numpy()\n",
    "# show generated data\n",
    "fig, ax = plt.subplots(10, 10, figsize=(10, 10), sharey=True)\n",
    "for i in range(10):\n",
    "    for j in range(10):\n",
    "        ax[i, j].imshow(X[i * 10 + j].reshape(28, 28), cmap=\"gray\")\n",
    "        ax[i, j].axis(\"off\")\n",
    "plt.show()"
   ]
  },
  {
   "cell_type": "code",
   "execution_count": null,
   "id": "6",
   "metadata": {},
   "outputs": [],
   "source": [
    "z00, z01 = Z[27], Z[28]\n",
    "# interpolate between two latent vectors\n",
    "Z_interp = []\n",
    "for alpha in np.linspace(0, 1, 10):\n",
    "    z = (1 - alpha) * z00 + alpha * z01\n",
    "    Z_interp.append(z)\n",
    "\n",
    "# show interpolated data\n",
    "X_interp = G(torch.stack(Z_interp)).cpu().detach().numpy()\n",
    "fig, ax = plt.subplots(1, 10, figsize=(10, 2), sharey=True)\n",
    "for i in range(10):\n",
    "    ax[i].imshow(X_interp[i].reshape(28, 28), cmap=\"gray\")\n",
    "    ax[i].axis(\"off\")\n",
    "plt.show()"
   ]
  },
  {
   "cell_type": "code",
   "execution_count": null,
   "id": "7",
   "metadata": {},
   "outputs": [],
   "source": [
    "z00, z01 = Z[27], Z[28]\n",
    "z10, z11 = Z[70], Z[56]\n",
    "\n",
    "# bilinear interpolation between two latent vectors\n",
    "Z_interp = []\n",
    "for alpha in np.linspace(0, 1, 10):\n",
    "    for beta in np.linspace(0, 1, 10):\n",
    "        z = (1 - alpha) * (1 - beta) * z00 + (1 - alpha) * beta * z01 + alpha * (1 - beta) * z10 + alpha * beta * z11\n",
    "        Z_interp.append(z)\n",
    "# show interpolated data\n",
    "X_interp = G(torch.stack(Z_interp)).cpu().detach().numpy()\n",
    "fig, ax = plt.subplots(10, 10, figsize=(10, 10), sharey=True)\n",
    "for i in range(10):\n",
    "    for j in range(10):\n",
    "        ax[i, j].imshow(X_interp[10 * i + j].reshape(28, 28), cmap=\"gray\")\n",
    "        ax[i, j].axis(\"off\")\n",
    "plt.show()"
   ]
  },
  {
   "cell_type": "code",
   "execution_count": null,
   "id": "8",
   "metadata": {},
   "outputs": [],
   "source": [
    "# 7 - 1 + 4\n",
    "z1 = Z[19]\n",
    "z2 = Z[49]\n",
    "z3 = Z[98]\n",
    "\n",
    "# apply model to the latent vectors\n",
    "X1 = G(z1.unsqueeze(0)).cpu().detach().numpy()\n",
    "X2 = G(z2.unsqueeze(0)).cpu().detach().numpy()\n",
    "X3 = G(z3.unsqueeze(0)).cpu().detach().numpy()\n",
    "# show the generated data\n",
    "fig, ax = plt.subplots(1, 3, figsize=(6, 2), sharey=True)\n",
    "ax[0].imshow(X1.reshape(28, 28), cmap=\"gray\")\n",
    "ax[0].axis(\"off\")\n",
    "ax[1].imshow(X2.reshape(28, 28), cmap=\"gray\")\n",
    "ax[1].axis(\"off\")\n",
    "ax[2].imshow(X3.reshape(28, 28), cmap=\"gray\")\n",
    "ax[2].axis(\"off\")\n",
    "plt.show()\n",
    "\n",
    "z_r = z1 - z2 + z3\n",
    "# apply model to the resulting latent vector\n",
    "X_r = G(z_r.unsqueeze(0)).cpu().detach().numpy()\n",
    "# show the generated data\n",
    "fig, ax = plt.subplots(1, 1, figsize=(2, 2), sharey=True)\n",
    "ax.imshow(X_r.reshape(28, 28), cmap=\"gray\")\n",
    "ax.axis(\"off\")\n",
    "plt.show()"
   ]
  }
 ],
 "metadata": {
  "kernelspec": {
   "display_name": ".venv",
   "language": "python",
   "name": "python3"
  },
  "language_info": {
   "codemirror_mode": {
    "name": "ipython",
    "version": 3
   },
   "file_extension": ".py",
   "mimetype": "text/x-python",
   "name": "python",
   "nbconvert_exporter": "python",
   "pygments_lexer": "ipython3",
   "version": "3.12.7"
  }
 },
 "nbformat": 4,
 "nbformat_minor": 5
}
