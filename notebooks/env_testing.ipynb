{
 "cells": [
  {
   "cell_type": "code",
   "execution_count": 5,
   "id": "6b7afa5a",
   "metadata": {},
   "outputs": [],
   "source": [
    "import time\n",
    "import numpy as np\n",
    "import gymnasium as gym\n",
    "\n",
    "def test_env(env):\n",
    "    env.reset()\n",
    "    secs = []\n",
    "    for _ in range(1000):\n",
    "        start = time.perf_counter()\n",
    "        action = env.action_space.sample()\n",
    "        obs, reward, terminated, truncated, info = env.step(action)\n",
    "        #env.render()\n",
    "        if terminated or truncated:\n",
    "            env.reset()\n",
    "        end = time.perf_counter()\n",
    "        #print(f\"Step took {end - start:.4f} seconds, reward: {reward}, action: {action}\")\n",
    "        secs.append(end - start)\n",
    "    print(f\"Average step time: {np.mean(secs):.4f}+-{np.std(secs)} seconds\")\n",
    "    env.close()"
   ]
  },
  {
   "cell_type": "code",
   "execution_count": 6,
   "id": "bb51436a",
   "metadata": {},
   "outputs": [
    {
     "name": "stdout",
     "output_type": "stream",
     "text": [
      "Average step time: 0.0242+-0.002286104447532346 seconds\n"
     ]
    },
    {
     "data": {
      "text/plain": [
       "'\\nimport ale_py\\nenv = gym.make(\"ALE/Pong-v5\")\\ntest_env(env)\\n\\nenv = gym.make(\"ALE/Pacman-v5\")\\ntest_env(env)\\n'"
      ]
     },
     "execution_count": 6,
     "metadata": {},
     "output_type": "execute_result"
    }
   ],
   "source": [
    "#env = gym.make(\"CarRacing-v3\", continuous = True, render_mode=\"human\")\n",
    "#test_env(env)\n",
    "\n",
    "env = gym.make(\"CarRacing-v3\", continuous = False, render_mode=\"human\")\n",
    "test_env(env)\n",
    "\n",
    "'''\n",
    "import ale_py\n",
    "env = gym.make(\"ALE/Pong-v5\")\n",
    "test_env(env)\n",
    "\n",
    "env = gym.make(\"ALE/Pacman-v5\")\n",
    "test_env(env)\n",
    "'''"
   ]
  },
  {
   "cell_type": "code",
   "execution_count": null,
   "id": "f4fcfe8b",
   "metadata": {},
   "outputs": [
    {
     "ename": "KeyboardInterrupt",
     "evalue": "",
     "output_type": "error",
     "traceback": [
      "\u001b[31m---------------------------------------------------------------------------\u001b[39m",
      "\u001b[31mKeyboardInterrupt\u001b[39m                         Traceback (most recent call last)",
      "\u001b[36mCell\u001b[39m\u001b[36m \u001b[39m\u001b[32mIn[6]\u001b[39m\u001b[32m, line 49\u001b[39m\n\u001b[32m     46\u001b[39m         pygame.time.delay(\u001b[32m30\u001b[39m)\n\u001b[32m     48\u001b[39m env = gym.make(\u001b[33m\"\u001b[39m\u001b[33mALE/Pacman-v5\u001b[39m\u001b[33m\"\u001b[39m, render_mode=\u001b[33m'\u001b[39m\u001b[33mhuman\u001b[39m\u001b[33m'\u001b[39m)\n\u001b[32m---> \u001b[39m\u001b[32m49\u001b[39m \u001b[43mplay_env\u001b[49m\u001b[43m(\u001b[49m\u001b[43menv\u001b[49m\u001b[43m)\u001b[49m\n",
      "\u001b[36mCell\u001b[39m\u001b[36m \u001b[39m\u001b[32mIn[6]\u001b[39m\u001b[32m, line 41\u001b[39m, in \u001b[36mplay_env\u001b[39m\u001b[34m(env)\u001b[39m\n\u001b[32m     38\u001b[39m         action = \u001b[32m0\u001b[39m  \u001b[38;5;66;03m# Stop moving when key is released\u001b[39;00m\n\u001b[32m     40\u001b[39m \u001b[38;5;66;03m# Step environment\u001b[39;00m\n\u001b[32m---> \u001b[39m\u001b[32m41\u001b[39m obs, reward, terminated, truncated, info = \u001b[43menv\u001b[49m\u001b[43m.\u001b[49m\u001b[43mstep\u001b[49m\u001b[43m(\u001b[49m\u001b[43maction\u001b[49m\u001b[43m)\u001b[49m\n\u001b[32m     43\u001b[39m \u001b[38;5;28;01mif\u001b[39;00m terminated \u001b[38;5;129;01mor\u001b[39;00m truncated:\n\u001b[32m     44\u001b[39m     obs, info = env.reset()\n",
      "\u001b[36mFile \u001b[39m\u001b[32mc:\\Users\\hss19\\anaconda3\\envs\\ml-torch\\Lib\\site-packages\\gymnasium\\wrappers\\common.py:393\u001b[39m, in \u001b[36mOrderEnforcing.step\u001b[39m\u001b[34m(self, action)\u001b[39m\n\u001b[32m    391\u001b[39m \u001b[38;5;28;01mif\u001b[39;00m \u001b[38;5;129;01mnot\u001b[39;00m \u001b[38;5;28mself\u001b[39m._has_reset:\n\u001b[32m    392\u001b[39m     \u001b[38;5;28;01mraise\u001b[39;00m ResetNeeded(\u001b[33m\"\u001b[39m\u001b[33mCannot call env.step() before calling env.reset()\u001b[39m\u001b[33m\"\u001b[39m)\n\u001b[32m--> \u001b[39m\u001b[32m393\u001b[39m \u001b[38;5;28;01mreturn\u001b[39;00m \u001b[38;5;28;43msuper\u001b[39;49m\u001b[43m(\u001b[49m\u001b[43m)\u001b[49m\u001b[43m.\u001b[49m\u001b[43mstep\u001b[49m\u001b[43m(\u001b[49m\u001b[43maction\u001b[49m\u001b[43m)\u001b[49m\n",
      "\u001b[36mFile \u001b[39m\u001b[32mc:\\Users\\hss19\\anaconda3\\envs\\ml-torch\\Lib\\site-packages\\gymnasium\\core.py:327\u001b[39m, in \u001b[36mWrapper.step\u001b[39m\u001b[34m(self, action)\u001b[39m\n\u001b[32m    323\u001b[39m \u001b[38;5;28;01mdef\u001b[39;00m\u001b[38;5;250m \u001b[39m\u001b[34mstep\u001b[39m(\n\u001b[32m    324\u001b[39m     \u001b[38;5;28mself\u001b[39m, action: WrapperActType\n\u001b[32m    325\u001b[39m ) -> \u001b[38;5;28mtuple\u001b[39m[WrapperObsType, SupportsFloat, \u001b[38;5;28mbool\u001b[39m, \u001b[38;5;28mbool\u001b[39m, \u001b[38;5;28mdict\u001b[39m[\u001b[38;5;28mstr\u001b[39m, Any]]:\n\u001b[32m    326\u001b[39m \u001b[38;5;250m    \u001b[39m\u001b[33;03m\"\"\"Uses the :meth:`step` of the :attr:`env` that can be overwritten to change the returned data.\"\"\"\u001b[39;00m\n\u001b[32m--> \u001b[39m\u001b[32m327\u001b[39m     \u001b[38;5;28;01mreturn\u001b[39;00m \u001b[38;5;28;43mself\u001b[39;49m\u001b[43m.\u001b[49m\u001b[43menv\u001b[49m\u001b[43m.\u001b[49m\u001b[43mstep\u001b[49m\u001b[43m(\u001b[49m\u001b[43maction\u001b[49m\u001b[43m)\u001b[49m\n",
      "\u001b[36mFile \u001b[39m\u001b[32mc:\\Users\\hss19\\anaconda3\\envs\\ml-torch\\Lib\\site-packages\\gymnasium\\wrappers\\common.py:285\u001b[39m, in \u001b[36mPassiveEnvChecker.step\u001b[39m\u001b[34m(self, action)\u001b[39m\n\u001b[32m    283\u001b[39m     \u001b[38;5;28;01mreturn\u001b[39;00m env_step_passive_checker(\u001b[38;5;28mself\u001b[39m.env, action)\n\u001b[32m    284\u001b[39m \u001b[38;5;28;01melse\u001b[39;00m:\n\u001b[32m--> \u001b[39m\u001b[32m285\u001b[39m     \u001b[38;5;28;01mreturn\u001b[39;00m \u001b[38;5;28;43mself\u001b[39;49m\u001b[43m.\u001b[49m\u001b[43menv\u001b[49m\u001b[43m.\u001b[49m\u001b[43mstep\u001b[49m\u001b[43m(\u001b[49m\u001b[43maction\u001b[49m\u001b[43m)\u001b[49m\n",
      "\u001b[36mFile \u001b[39m\u001b[32mc:\\Users\\hss19\\anaconda3\\envs\\ml-torch\\Lib\\site-packages\\ale_py\\env.py:305\u001b[39m, in \u001b[36mAtariEnv.step\u001b[39m\u001b[34m(self, action)\u001b[39m\n\u001b[32m    303\u001b[39m reward = \u001b[32m0.0\u001b[39m\n\u001b[32m    304\u001b[39m \u001b[38;5;28;01mfor\u001b[39;00m _ \u001b[38;5;129;01min\u001b[39;00m \u001b[38;5;28mrange\u001b[39m(frameskip):\n\u001b[32m--> \u001b[39m\u001b[32m305\u001b[39m     reward += \u001b[38;5;28mself\u001b[39m.ale.act(action_idx, strength)\n\u001b[32m    307\u001b[39m is_terminal = \u001b[38;5;28mself\u001b[39m.ale.game_over(with_truncation=\u001b[38;5;28;01mFalse\u001b[39;00m)\n\u001b[32m    308\u001b[39m is_truncated = \u001b[38;5;28mself\u001b[39m.ale.game_truncated()\n",
      "\u001b[31mKeyboardInterrupt\u001b[39m: "
     ]
    },
    {
     "ename": "",
     "evalue": "",
     "output_type": "error",
     "traceback": [
      "\u001b[1;31mThe Kernel crashed while executing code in the current cell or a previous cell. \n",
      "\u001b[1;31mPlease review the code in the cell(s) to identify a possible cause of the failure. \n",
      "\u001b[1;31mClick <a href='https://aka.ms/vscodeJupyterKernelCrash'>here</a> for more info. \n",
      "\u001b[1;31mView Jupyter <a href='command:jupyter.viewOutput'>log</a> for further details."
     ]
    }
   ],
   "source": [
    "import pygame\n",
    "\n",
    "def play_env(env):\n",
    "    pygame.init()\n",
    "    screen = pygame.display.set_mode((400, 300))\n",
    "    pygame.display.set_caption(\"Playing\")\n",
    "\n",
    "    # Action meanings for Pong\n",
    "    # 0 = NOOP\n",
    "    # 1 = FIRE\n",
    "    # 2 = UP\n",
    "    # 3 = DOWN\n",
    "    # 4 = RIGHT\n",
    "    # 5 = LEFT\n",
    "\n",
    "    action = 0  # default action\n",
    "\n",
    "    obs, info = env.reset()\n",
    "    # Game loop\n",
    "    while True:\n",
    "        for event in pygame.event.get():\n",
    "            if event.type == pygame.QUIT:\n",
    "                env.close()\n",
    "                pygame.quit()\n",
    "                return 0\n",
    "            elif event.type == pygame.KEYDOWN:\n",
    "                if event.key == pygame.K_UP:\n",
    "                    action = 2\n",
    "                elif event.key == pygame.K_DOWN:\n",
    "                    action = 3\n",
    "                elif event.key == pygame.K_SPACE:\n",
    "                    action = 1\n",
    "                elif event.key == pygame.K_ESCAPE:\n",
    "                    env.close()\n",
    "                    pygame.quit()\n",
    "                    sys.exit()\n",
    "            elif event.type == pygame.KEYUP:\n",
    "                action = 0  # Stop moving when key is released\n",
    "\n",
    "        # Step environment\n",
    "        obs, reward, terminated, truncated, info = env.step(action)\n",
    "\n",
    "        if terminated or truncated:\n",
    "            obs, info = env.reset()\n",
    "\n",
    "        pygame.time.delay(30)\n",
    "\n",
    "env = gym.make(\"ALE/Pacman-v5\", render_mode='human')\n",
    "play_env(env)"
   ]
  }
 ],
 "metadata": {
  "kernelspec": {
   "display_name": "ml-torch",
   "language": "python",
   "name": "python3"
  },
  "language_info": {
   "codemirror_mode": {
    "name": "ipython",
    "version": 3
   },
   "file_extension": ".py",
   "mimetype": "text/x-python",
   "name": "python",
   "nbconvert_exporter": "python",
   "pygments_lexer": "ipython3",
   "version": "3.12.11"
  }
 },
 "nbformat": 4,
 "nbformat_minor": 5
}
