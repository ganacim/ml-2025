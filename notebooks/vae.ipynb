{
 "cells": [
  {
   "cell_type": "code",
   "execution_count": null,
   "id": "0",
   "metadata": {},
   "outputs": [],
   "source": [
    "%matplotlib widget\n",
    "import numpy as np\n",
    "import matplotlib.pyplot as plt\n",
    "from scipy.stats import multivariate_normal as mvn\n",
    "\n",
    "# import pca from sklearn\n",
    "from sklearn.decomposition import PCA\n",
    "\n",
    "rng = np.random.default_rng(42)"
   ]
  },
  {
   "cell_type": "code",
   "execution_count": null,
   "id": "1",
   "metadata": {},
   "outputs": [],
   "source": [
    "# Function to generate and plot normal distributions in different dimensions\n",
    "def explore_stddev(dimensions, stddev=1.0, num_samples=1000):\n",
    "    fig, axes = plt.subplots(3, len(dimensions), figsize=(15, 10))\n",
    "\n",
    "    for i, dim in enumerate(dimensions):\n",
    "        # Generate random samples\n",
    "        samples = rng.normal(loc=0, scale=stddev, size=(num_samples, dim))\n",
    "        # Compute the magnitude of the samples\n",
    "        magnitudes = np.linalg.norm(samples, axis=1)\n",
    "\n",
    "        # Plot the distribution of magnitudes\n",
    "        ax = axes[0, i]\n",
    "        ax.hist(magnitudes, bins=50, density=True, alpha=0.7, color=\"blue\")\n",
    "        ax.set_title(f\"{dim}D Normal Distribution\\n(stddev={stddev})\")\n",
    "        ax.set_xlabel(\"Magnitude\")\n",
    "        ax.set_ylabel(\"Density\")\n",
    "\n",
    "        # using multivariate normal for 2D and higher\n",
    "        samples2 = mvn.rvs(mean=dim * [0], cov=dim * [1], size=num_samples)\n",
    "        # Compute the magnitude of the samples\n",
    "        if dim == 1:\n",
    "            samples2 = samples2.reshape(-1, 1)\n",
    "        magnitudes2 = np.linalg.norm(samples2, axis=1)\n",
    "\n",
    "        # Plot the distribution of magnitudes\n",
    "        ax = axes[1, i]\n",
    "        ax.hist(magnitudes2, bins=50, density=True, alpha=0.7, color=\"blue\")\n",
    "        ax.set_title(f\"{dim}D Normal Distribution\\n(stddev={stddev})\")\n",
    "        ax.set_xlabel(\"Magnitude\")\n",
    "        ax.set_ylabel(\"Density\")\n",
    "\n",
    "        if dim < 3:\n",
    "            ax = axes[2, i]\n",
    "            if dim == 1:\n",
    "                # Generate a 2D scatter plot for 2D samples\n",
    "                ax.scatter(samples[:, 0], np.zeros_like(samples[:, 0]), alpha=0.5, s=0.01)\n",
    "            elif dim == 2:\n",
    "                # Generate a 2D scatter plot for 2D samples\n",
    "                ax.scatter(samples[:, 0], samples[:, 1], alpha=0.5, s=1)\n",
    "            ax.set_xlim(-5 * stddev, 5 * stddev)\n",
    "            ax.set_ylim(-5 * stddev, 5 * stddev)\n",
    "            ax.set_title(f\"{dim}D Normal Distribution\\n(stddev={stddev})\")\n",
    "\n",
    "    plt.tight_layout()\n",
    "    plt.show()\n",
    "\n",
    "\n",
    "# Explore the role of stddev in 1D, 2D, and 3D spaces\n",
    "explore_stddev(dimensions=[1, 2, 3, 4, 5, 50, 100], stddev=1.0, num_samples=100000)"
   ]
  },
  {
   "cell_type": "code",
   "execution_count": null,
   "id": "2",
   "metadata": {},
   "outputs": [],
   "source": [
    "import torch\n",
    "\n",
    "eps = 1e-8\n",
    "x = eps * torch.ones(1, 1, dtype=torch.float32)\n",
    "print(x)\n",
    "oprint(torch.log(x))"
   ]
  },
  {
   "cell_type": "code",
   "execution_count": null,
   "id": "3",
   "metadata": {},
   "outputs": [],
   "source": [
    "N = 2048\n",
    "fig, ax = plt.subplots(1, 10, figsize=(12, 4))\n",
    "for i in range(1, 11):\n",
    "    # generate a random normal samples\n",
    "    x = rng.normal(loc=0, scale=(2**i), size=(N, 2**i))\n",
    "\n",
    "    pca = PCA(n_components=2)\n",
    "    X_proj = pca.fit_transform(x)\n",
    "    ax[i - 1].scatter(X_proj[:, 0], X_proj[:, 1], alpha=1, s=0.01)"
   ]
  },
  {
   "cell_type": "code",
   "execution_count": null,
   "id": "4",
   "metadata": {},
   "outputs": [],
   "source": []
  }
 ],
 "metadata": {
  "kernelspec": {
   "display_name": ".venv",
   "language": "python",
   "name": "python3"
  },
  "language_info": {
   "codemirror_mode": {
    "name": "ipython",
    "version": 3
   },
   "file_extension": ".py",
   "mimetype": "text/x-python",
   "name": "python",
   "nbconvert_exporter": "python",
   "pygments_lexer": "ipython3",
   "version": "3.12.7"
  }
 },
 "nbformat": 4,
 "nbformat_minor": 5
}
