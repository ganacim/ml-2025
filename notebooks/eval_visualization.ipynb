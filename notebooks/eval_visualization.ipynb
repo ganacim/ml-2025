{
 "cells": [
  {
   "cell_type": "code",
   "execution_count": null,
   "metadata": {},
   "outputs": [],
   "source": [
    "from mlc.util.resources import model_path\n",
    "import json\n",
    "import numpy as np\n",
    "from sklearn.metrics import confusion_matrix, ConfusionMatrixDisplay, roc_curve, auc, f1_score\n",
    "import matplotlib.pyplot as plt"
   ]
  },
  {
   "cell_type": "code",
   "execution_count": null,
   "metadata": {},
   "outputs": [],
   "source": [
    "# opening latest model results\n",
    "model_to_plot = \"latest\"\n",
    "checkpoint_to_plot = \"latest\"\n",
    "\n",
    "path = model_path(\"cnn_mod\") / model_to_plot / checkpoint_to_plot / \"eval.json\"\n",
    "\n",
    "with open(path, \"r\") as f:\n",
    "    results_dict = json.load(f)"
   ]
  },
  {
   "cell_type": "code",
   "execution_count": null,
   "metadata": {},
   "outputs": [],
   "source": [
    "# plotting results\n",
    "fold = \"validation\"\n",
    "T = 0.5\n",
    "\n",
    "ypreds = np.array(results_dict[fold][\"predictions\"])\n",
    "ytrue = np.array(results_dict[fold][\"true\"]).astype(int)\n",
    "\n",
    "conf_m = confusion_matrix(ytrue, (ypreds > T))\n",
    "disp = ConfusionMatrixDisplay(conf_m, display_labels=[\"Cat\", \"Dog\"])\n",
    "disp.plot()\n",
    "plt.title(f\"Confusion matrix for {fold}\")\n",
    "plt.show()\n",
    "\n",
    "print(f\"Model accuracy: {round(np.sum(ytrue == (ypreds > T)) / ytrue.shape[0], 3)}\")\n",
    "print(f\"Model f1 score: {round(f1_score(ytrue, (ypreds > T)), 3)}\")\n",
    "\n",
    "fpr, tpr, threshold = roc_curve(ytrue, ypreds)\n",
    "roc_auc = auc(fpr, tpr)\n",
    "plt.title(f\"ROC Curve for {fold}\")\n",
    "plt.plot(fpr, tpr, \"black\", label=\"AUC = %0.3f\" % roc_auc)\n",
    "plt.legend(loc=\"lower right\")\n",
    "plt.plot([0, 1], [0, 1], \"o--\")\n",
    "plt.xlim([0, 1])\n",
    "plt.ylim([0, 1])\n",
    "plt.ylabel(\"True Positive Rate\")\n",
    "plt.xlabel(\"False Positive Rate\")\n",
    "plt.show()"
   ]
  },
  {
   "cell_type": "code",
   "execution_count": null,
   "metadata": {},
   "outputs": [],
   "source": []
  },
  {
   "cell_type": "code",
   "execution_count": null,
   "metadata": {},
   "outputs": [],
   "source": []
  }
 ],
 "metadata": {
  "kernelspec": {
   "display_name": ".venv",
   "language": "python",
   "name": "python3"
  },
  "language_info": {
   "codemirror_mode": {
    "name": "ipython",
    "version": 3
   },
   "file_extension": ".py",
   "mimetype": "text/x-python",
   "name": "python",
   "nbconvert_exporter": "python",
   "pygments_lexer": "ipython3",
   "version": "3.12.9"
  }
 },
 "nbformat": 4,
 "nbformat_minor": 2
}
