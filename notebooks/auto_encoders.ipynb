{
 "cells": [
  {
   "cell_type": "code",
   "execution_count": null,
   "id": "0",
   "metadata": {},
   "outputs": [],
   "source": [
    "%matplotlib widget\n",
    "from matplotlib import pyplot as plt\n",
    "import numpy as np\n",
    "import torch\n",
    "\n",
    "# import dependencies for PCA\n",
    "from sklearn.decomposition import PCA\n",
    "from sklearn.manifold import TSNE\n",
    "\n",
    "from mlc.data.mnist.dataset import MNIST\n",
    "from mlc.util.model import load_checkpoint"
   ]
  },
  {
   "cell_type": "code",
   "execution_count": null,
   "id": "1",
   "metadata": {},
   "outputs": [],
   "source": [
    "# model_version, args = \"20250411150333312014\", {\"neck_dim\": 8, \"init_dim\": 32}\n",
    "# model_version, args = \"20250411144310508707\", {\"neck_dim\": 16, \"init_dim\": 32}\n",
    "model_version, args = \"20250411153623227400\", {\"neck_dim\": 16, \"init_dim\": 64}\n",
    "model = load_checkpoint(\"mlp_autoencoder\", args, model_version, \"latest\")\n",
    "print(model.name())"
   ]
  },
  {
   "cell_type": "code",
   "execution_count": null,
   "id": "2",
   "metadata": {},
   "outputs": [],
   "source": [
    "# get model encoder!\n",
    "encoder = model.encoder\n",
    "\n",
    "# get validation data\n",
    "dataset = MNIST({})\n",
    "validation_data = dataset.get_fold(\"validation\")"
   ]
  },
  {
   "cell_type": "code",
   "execution_count": null,
   "id": "3",
   "metadata": {},
   "outputs": [],
   "source": [
    "fig, ax = plt.subplots(2, 10, figsize=(10, 5), sharey=True)\n",
    "# show some data\n",
    "for i in range(10):\n",
    "    data, _ = validation_data[i]\n",
    "    with torch.no_grad():\n",
    "        data = data.unsqueeze(0)\n",
    "        data_rec = model(data)\n",
    "    ax[0, i].imshow(data.squeeze().cpu().numpy(), cmap=\"gray\")\n",
    "    ax[0, i].axis(\"off\")\n",
    "    # apply model\n",
    "    data_rec = data_rec.view((28, 28))\n",
    "    ax[1, i].imshow(data_rec.cpu().numpy(), cmap=\"gray\")\n",
    "    ax[1, i].axis(\"off\")"
   ]
  },
  {
   "cell_type": "code",
   "execution_count": null,
   "id": "4",
   "metadata": {},
   "outputs": [],
   "source": [
    "# apply encoder to data\n",
    "encoded_data = []\n",
    "label = []\n",
    "for i in range(len(validation_data)):\n",
    "    data, _ = validation_data[i]\n",
    "    data = data.unsqueeze(0)\n",
    "    with torch.no_grad():\n",
    "        encoded = encoder(data)\n",
    "        encoded_data.append(encoded.cpu().numpy())\n",
    "        label.append(validation_data.get_label(i))\n",
    "encoded_data = np.concatenate(encoded_data, axis=0)\n",
    "label = np.array(label)\n",
    "print(encoded_data.shape)\n",
    "print(label.shape)"
   ]
  },
  {
   "cell_type": "code",
   "execution_count": null,
   "id": "5",
   "metadata": {},
   "outputs": [],
   "source": [
    "# Do PCA on encoded data\n",
    "pca = PCA(n_components=2)\n",
    "pca.fit(encoded_data)\n",
    "encoded_data_2d = pca.transform(encoded_data)\n",
    "print(encoded_data_2d.shape)"
   ]
  },
  {
   "cell_type": "code",
   "execution_count": null,
   "id": "6",
   "metadata": {},
   "outputs": [],
   "source": [
    "# scatter plot\n",
    "fig, ax = plt.subplots(1, 1, figsize=(10, 10))\n",
    "# scatter plot\n",
    "for i in range(10):\n",
    "    ax.scatter(encoded_data_2d[label == i, 0], encoded_data_2d[label == i, 1], alpha=0.5, label=f\"Class {i}\")\n",
    "ax.legend()\n",
    "ax.set_xlabel(\"PCA 1\")\n",
    "ax.set_ylabel(\"PCA 2\")\n",
    "plt.show()"
   ]
  },
  {
   "cell_type": "code",
   "execution_count": null,
   "id": "7",
   "metadata": {},
   "outputs": [],
   "source": [
    "# Do PCA on encoded data\n",
    "pca = PCA(n_components=3)\n",
    "pca.fit(encoded_data)\n",
    "encoded_data_3d = pca.transform(encoded_data)\n",
    "print(encoded_data_3d.shape)"
   ]
  },
  {
   "cell_type": "code",
   "execution_count": null,
   "id": "8",
   "metadata": {},
   "outputs": [],
   "source": [
    "# Create a 3D scatter plot\n",
    "fig = plt.figure(figsize=(10, 10))\n",
    "ax = fig.add_subplot(111, projection=\"3d\")\n",
    "# scatter plot\n",
    "for i in range(10):\n",
    "    ax.scatter(\n",
    "        encoded_data_3d[label == i, 0],\n",
    "        encoded_data_3d[label == i, 1],\n",
    "        encoded_data_3d[label == i, 2],\n",
    "        alpha=0.5,\n",
    "        label=f\"Class {i}\",\n",
    "    )\n",
    "ax.legend()\n",
    "ax.set_xlabel(\"PCA 1\")\n",
    "ax.set_ylabel(\"PCA 2\")\n",
    "ax.set_zlabel(\"PCA 3\")\n",
    "plt.show()"
   ]
  },
  {
   "cell_type": "code",
   "execution_count": null,
   "id": "9",
   "metadata": {},
   "outputs": [],
   "source": [
    "# Use t-SNE to reduce the dimensionality of the data to 2D\n",
    "# Initialize t-SNE\n",
    "tsne = TSNE(n_components=2, random_state=42)\n",
    "# Fit and transform the data\n",
    "encoded_data_tsne = tsne.fit_transform(encoded_data)\n",
    "print(encoded_data_tsne.shape)"
   ]
  },
  {
   "cell_type": "code",
   "execution_count": null,
   "id": "10",
   "metadata": {},
   "outputs": [],
   "source": [
    "# Create a scatter plot\n",
    "fig, ax = plt.subplots(1, 1, figsize=(10, 10))\n",
    "# scatter plot\n",
    "for i in range(10):\n",
    "    ax.scatter(encoded_data_tsne[label == i, 0], encoded_data_tsne[label == i, 1], alpha=0.5, label=f\"Class {i}\")\n",
    "ax.legend()\n",
    "ax.set_xlabel(\"t-SNE 1\")\n",
    "ax.set_ylabel(\"t-SNE 2\")\n",
    "plt.show()"
   ]
  },
  {
   "cell_type": "code",
   "execution_count": null,
   "id": "11",
   "metadata": {},
   "outputs": [],
   "source": [
    "# Use t-SNE to reduce the dimensionality of the data to 3D\n",
    "# Initialize t-SNE\n",
    "tsne = TSNE(n_components=3, random_state=42)\n",
    "# Fit and transform the data\n",
    "encoded_data_tsne_3d = tsne.fit_transform(encoded_data)\n",
    "print(encoded_data_tsne_3d.shape)\n",
    "# Create a 3D scatter plot\n",
    "fig = plt.figure(figsize=(10, 10))\n",
    "ax = fig.add_subplot(111, projection=\"3d\")\n",
    "# scatter plot\n",
    "for i in range(10):\n",
    "    ax.scatter(\n",
    "        encoded_data_tsne_3d[label == i, 0],\n",
    "        encoded_data_tsne_3d[label == i, 1],\n",
    "        encoded_data_tsne_3d[label == i, 2],\n",
    "        alpha=0.5,\n",
    "        label=f\"Class {i}\",\n",
    "    )\n",
    "ax.legend()\n",
    "ax.set_xlabel(\"t-SNE 1\")\n",
    "ax.set_ylabel(\"t-SNE 2\")\n",
    "ax.set_zlabel(\"t-SNE 3\")\n",
    "plt.show()"
   ]
  },
  {
   "cell_type": "code",
   "execution_count": null,
   "id": "12",
   "metadata": {},
   "outputs": [],
   "source": []
  },
  {
   "cell_type": "code",
   "execution_count": null,
   "id": "13",
   "metadata": {},
   "outputs": [],
   "source": []
  },
  {
   "cell_type": "code",
   "execution_count": null,
   "id": "14",
   "metadata": {},
   "outputs": [],
   "source": []
  }
 ],
 "metadata": {
  "kernelspec": {
   "display_name": ".venv",
   "language": "python",
   "name": "python3"
  },
  "language_info": {
   "codemirror_mode": {
    "name": "ipython",
    "version": 3
   },
   "file_extension": ".py",
   "mimetype": "text/x-python",
   "name": "python",
   "nbconvert_exporter": "python",
   "pygments_lexer": "ipython3",
   "version": "3.12.7"
  }
 },
 "nbformat": 4,
 "nbformat_minor": 5
}
