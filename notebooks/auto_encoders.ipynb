{
 "cells": [
  {
   "cell_type": "markdown",
   "id": "34a0f4ef",
   "metadata": {},
   "source": [
    "## Initial Imports\n"
   ]
  },
  {
   "cell_type": "code",
   "execution_count": 1,
   "id": "0",
   "metadata": {},
   "outputs": [],
   "source": [
    "%matplotlib widget\n",
    "from matplotlib import pyplot as plt\n",
    "import numpy as np\n",
    "import torch\n",
    "\n",
    "# import dependencies for PCA\n",
    "from sklearn.decomposition import PCA\n",
    "from sklearn.manifold import TSNE\n",
    "\n",
    "from mlc.data.mnist.dataset import MNIST\n",
    "from mlc.data.celeba_align.dataset import CelebaAlign\n",
    "from mlc.util.model import load_checkpoint\n",
    "import mlc"
   ]
  },
  {
   "cell_type": "code",
   "execution_count": 2,
   "id": "fa5876dd",
   "metadata": {},
   "outputs": [
    {
     "name": "stdout",
     "output_type": "stream",
     "text": [
      "2.6.0+cu118\n",
      "True\n",
      "11.8\n",
      "90100\n"
     ]
    },
    {
     "data": {
      "text/plain": [
       "(5, 0)"
      ]
     },
     "execution_count": 2,
     "metadata": {},
     "output_type": "execute_result"
    }
   ],
   "source": [
    "print(torch.__version__)\n",
    "print(torch.cuda.is_available())\n",
    "print(torch.version.cuda)\n",
    "print(torch.backends.cudnn.version())\n",
    "torch.cuda.get_device_capability()"
   ]
  },
  {
   "cell_type": "markdown",
   "id": "907a51fe",
   "metadata": {},
   "source": [
    "## Creating Model"
   ]
  },
  {
   "cell_type": "code",
   "execution_count": 16,
   "id": "1",
   "metadata": {},
   "outputs": [
    {
     "name": "stdout",
     "output_type": "stream",
     "text": [
      "CNNAutoencoder: init_dim=6, layer_dim=6, num_blocks=2\n"
     ]
    },
    {
     "data": {
      "text/plain": [
       "VAE(\n",
       "  (encoder): Sequential(\n",
       "    (0): Conv2d(3, 6, kernel_size=(3, 3), stride=(1, 1), padding=(1, 1), bias=False)\n",
       "    (1): ReLU(inplace=True)\n",
       "    (2): BatchNorm2d(6, eps=1e-05, momentum=0.1, affine=True, track_running_stats=True)\n",
       "    (3): MaxPool2d(kernel_size=2, stride=2, padding=0, dilation=1, ceil_mode=False)\n",
       "    (4): Conv2d(6, 6, kernel_size=(3, 3), stride=(1, 1), padding=(1, 1), bias=False)\n",
       "    (5): ReLU(inplace=True)\n",
       "    (6): BatchNorm2d(6, eps=1e-05, momentum=0.1, affine=True, track_running_stats=True)\n",
       "    (7): MaxPool2d(kernel_size=2, stride=2, padding=0, dilation=1, ceil_mode=False)\n",
       "    (8): Conv2d(6, 6, kernel_size=(3, 3), stride=(1, 1), padding=(1, 1), bias=False)\n",
       "    (9): ReLU(inplace=True)\n",
       "    (10): BatchNorm2d(6, eps=1e-05, momentum=0.1, affine=True, track_running_stats=True)\n",
       "  )\n",
       "  (z_mu_transform): Conv2d(6, 6, kernel_size=(1, 1), stride=(1, 1), bias=False)\n",
       "  (z_sigma_transform): Conv2d(6, 6, kernel_size=(1, 1), stride=(1, 1), bias=False)\n",
       "  (decoder): Sequential(\n",
       "    (0): ConvTranspose2d(6, 6, kernel_size=(3, 3), stride=(2, 2), padding=(1, 1), output_padding=(1, 1), bias=False)\n",
       "    (1): ReLU(inplace=True)\n",
       "    (2): BatchNorm2d(6, eps=1e-05, momentum=0.1, affine=True, track_running_stats=True)\n",
       "    (3): ConvTranspose2d(6, 6, kernel_size=(3, 3), stride=(2, 2), padding=(1, 1), output_padding=(1, 1), bias=False)\n",
       "    (4): ReLU(inplace=True)\n",
       "    (5): BatchNorm2d(6, eps=1e-05, momentum=0.1, affine=True, track_running_stats=True)\n",
       "    (6): Conv2d(6, 3, kernel_size=(1, 1), stride=(1, 1), padding=same)\n",
       "    (7): Sigmoid()\n",
       "  )\n",
       ")"
      ]
     },
     "execution_count": 16,
     "metadata": {},
     "output_type": "execute_result"
    }
   ],
   "source": [
    "import argparse\n",
    "from mlc.model.vae.model import VAE\n",
    "\n",
    "# Create parser and add arguments\n",
    "parser = argparse.ArgumentParser()\n",
    "VAE.add_arguments(parser)\n",
    "\n",
    "# Parse empty args to use all defaults\n",
    "args = parser.parse_args([])\n",
    "\n",
    "# Convert Namespace to dict\n",
    "args_dict = vars(args)\n",
    "\n",
    "# Instantiate model with args\n",
    "model = VAE(args_dict)\n",
    "model"
   ]
  },
  {
   "cell_type": "code",
   "execution_count": 17,
   "id": "e49ee6b4",
   "metadata": {},
   "outputs": [
    {
     "name": "stdout",
     "output_type": "stream",
     "text": [
      "----------------------------------------------------------------\n",
      "        Layer (type)               Output Shape         Param #\n",
      "================================================================\n",
      "            Conv2d-1          [-1, 6, 256, 256]             162\n",
      "              ReLU-2          [-1, 6, 256, 256]               0\n",
      "       BatchNorm2d-3          [-1, 6, 256, 256]              12\n",
      "         MaxPool2d-4          [-1, 6, 128, 128]               0\n",
      "            Conv2d-5          [-1, 6, 128, 128]             324\n",
      "              ReLU-6          [-1, 6, 128, 128]               0\n",
      "       BatchNorm2d-7          [-1, 6, 128, 128]              12\n",
      "         MaxPool2d-8            [-1, 6, 64, 64]               0\n",
      "            Conv2d-9            [-1, 6, 64, 64]             324\n",
      "             ReLU-10            [-1, 6, 64, 64]               0\n",
      "      BatchNorm2d-11            [-1, 6, 64, 64]              12\n",
      "           Conv2d-12            [-1, 6, 64, 64]              36\n",
      "           Conv2d-13            [-1, 6, 64, 64]              36\n",
      "  ConvTranspose2d-14          [-1, 6, 128, 128]             324\n",
      "             ReLU-15          [-1, 6, 128, 128]               0\n",
      "      BatchNorm2d-16          [-1, 6, 128, 128]              12\n",
      "  ConvTranspose2d-17          [-1, 6, 256, 256]             324\n",
      "             ReLU-18          [-1, 6, 256, 256]               0\n",
      "      BatchNorm2d-19          [-1, 6, 256, 256]              12\n",
      "           Conv2d-20          [-1, 3, 256, 256]              21\n",
      "          Sigmoid-21          [-1, 3, 256, 256]               0\n",
      "================================================================\n",
      "Total params: 1,611\n",
      "Trainable params: 1,611\n",
      "Non-trainable params: 0\n",
      "----------------------------------------------------------------\n",
      "Input size (MB): 0.75\n",
      "Forward/backward pass size (MB): 27.38\n",
      "Params size (MB): 0.01\n",
      "Estimated Total Size (MB): 28.13\n",
      "----------------------------------------------------------------\n",
      "None\n"
     ]
    }
   ],
   "source": [
    "from torchsummary import summary\n",
    "print(summary(model,(3,256,256),device=\"cpu\"))"
   ]
  },
  {
   "cell_type": "code",
   "execution_count": 23,
   "id": "46088079",
   "metadata": {},
   "outputs": [
    {
     "data": {
      "text/plain": [
       "<All keys matched successfully>"
      ]
     },
     "execution_count": 23,
     "metadata": {},
     "output_type": "execute_result"
    }
   ],
   "source": [
    "save_path = \"../models/vae/latest/latest/model_state.pt\"\n",
    "state_dict = torch.load(save_path)\n",
    "\n",
    "model.load_state_dict(state_dict)"
   ]
  },
  {
   "cell_type": "markdown",
   "id": "c689d7c7",
   "metadata": {},
   "source": [
    "## Importing dataset"
   ]
  },
  {
   "cell_type": "code",
   "execution_count": null,
   "id": "f5ee644f",
   "metadata": {},
   "outputs": [],
   "source": [
    "CelebaAlign()"
   ]
  },
  {
   "cell_type": "code",
   "execution_count": null,
   "id": "3",
   "metadata": {},
   "outputs": [],
   "source": [
    "fig, ax = plt.subplots(2, 10, figsize=(10, 5), sharey=True)\n",
    "# show some data\n",
    "for i in range(10):\n",
    "    data, _ = validation_data[i]\n",
    "    with torch.no_grad():\n",
    "        data = data.unsqueeze(0)\n",
    "        data_rec = model(data)\n",
    "    ax[0, i].imshow(data.squeeze().cpu().numpy(), cmap=\"gray\")\n",
    "    ax[0, i].axis(\"off\")\n",
    "    # apply model\n",
    "    data_rec = data_rec.view((28, 28))\n",
    "    ax[1, i].imshow(data_rec.cpu().numpy(), cmap=\"gray\")\n",
    "    ax[1, i].axis(\"off\")"
   ]
  },
  {
   "cell_type": "code",
   "execution_count": null,
   "id": "4",
   "metadata": {},
   "outputs": [],
   "source": [
    "# apply encoder to data\n",
    "encoded_data = []\n",
    "label = []\n",
    "for i in range(len(validation_data)):\n",
    "    data, _ = validation_data[i]\n",
    "    data = data.unsqueeze(0)\n",
    "    with torch.no_grad():\n",
    "        encoded = encoder(data)\n",
    "        encoded_data.append(encoded.cpu().numpy())\n",
    "        label.append(validation_data.get_label(i))\n",
    "encoded_data = np.concatenate(encoded_data, axis=0)\n",
    "label = np.array(label)\n",
    "print(encoded_data.shape)\n",
    "print(label.shape)"
   ]
  },
  {
   "cell_type": "code",
   "execution_count": null,
   "id": "5",
   "metadata": {},
   "outputs": [],
   "source": [
    "# Do PCA on encoded data\n",
    "pca = PCA(n_components=2)\n",
    "pca.fit(encoded_data)\n",
    "encoded_data_2d = pca.transform(encoded_data)\n",
    "print(encoded_data_2d.shape)"
   ]
  },
  {
   "cell_type": "code",
   "execution_count": null,
   "id": "6",
   "metadata": {},
   "outputs": [],
   "source": [
    "# scatter plot\n",
    "fig, ax = plt.subplots(1, 1, figsize=(10, 10))\n",
    "# scatter plot\n",
    "for i in range(10):\n",
    "    ax.scatter(encoded_data_2d[label == i, 0], encoded_data_2d[label == i, 1], alpha=0.5, label=f\"Class {i}\")\n",
    "ax.legend()\n",
    "ax.set_xlabel(\"PCA 1\")\n",
    "ax.set_ylabel(\"PCA 2\")\n",
    "plt.show()"
   ]
  },
  {
   "cell_type": "code",
   "execution_count": null,
   "id": "7",
   "metadata": {},
   "outputs": [],
   "source": [
    "# Do PCA on encoded data\n",
    "pca = PCA(n_components=3)\n",
    "pca.fit(encoded_data)\n",
    "encoded_data_3d = pca.transform(encoded_data)\n",
    "print(encoded_data_3d.shape)"
   ]
  },
  {
   "cell_type": "code",
   "execution_count": null,
   "id": "8",
   "metadata": {},
   "outputs": [],
   "source": [
    "# Create a 3D scatter plot\n",
    "fig = plt.figure(figsize=(10, 10))\n",
    "ax = fig.add_subplot(111, projection=\"3d\")\n",
    "# scatter plot\n",
    "for i in range(10):\n",
    "    ax.scatter(\n",
    "        encoded_data_3d[label == i, 0],\n",
    "        encoded_data_3d[label == i, 1],\n",
    "        encoded_data_3d[label == i, 2],\n",
    "        alpha=0.5,\n",
    "        label=f\"Class {i}\",\n",
    "    )\n",
    "ax.legend()\n",
    "ax.set_xlabel(\"PCA 1\")\n",
    "ax.set_ylabel(\"PCA 2\")\n",
    "ax.set_zlabel(\"PCA 3\")\n",
    "plt.show()"
   ]
  },
  {
   "cell_type": "code",
   "execution_count": null,
   "id": "9",
   "metadata": {},
   "outputs": [],
   "source": [
    "# Use t-SNE to reduce the dimensionality of the data to 2D\n",
    "# Initialize t-SNE\n",
    "tsne = TSNE(n_components=2, random_state=42)\n",
    "# Fit and transform the data\n",
    "encoded_data_tsne = tsne.fit_transform(encoded_data)\n",
    "print(encoded_data_tsne.shape)"
   ]
  },
  {
   "cell_type": "code",
   "execution_count": null,
   "id": "10",
   "metadata": {},
   "outputs": [],
   "source": [
    "# Create a scatter plot\n",
    "fig, ax = plt.subplots(1, 1, figsize=(10, 10))\n",
    "# scatter plot\n",
    "for i in range(10):\n",
    "    ax.scatter(encoded_data_tsne[label == i, 0], encoded_data_tsne[label == i, 1], alpha=0.5, label=f\"Class {i}\")\n",
    "ax.legend()\n",
    "ax.set_xlabel(\"t-SNE 1\")\n",
    "ax.set_ylabel(\"t-SNE 2\")\n",
    "plt.show()"
   ]
  },
  {
   "cell_type": "code",
   "execution_count": null,
   "id": "11",
   "metadata": {},
   "outputs": [],
   "source": [
    "# Use t-SNE to reduce the dimensionality of the data to 3D\n",
    "# Initialize t-SNE\n",
    "tsne = TSNE(n_components=3, random_state=42)\n",
    "# Fit and transform the data\n",
    "encoded_data_tsne_3d = tsne.fit_transform(encoded_data)\n",
    "print(encoded_data_tsne_3d.shape)\n",
    "# Create a 3D scatter plot\n",
    "fig = plt.figure(figsize=(10, 10))\n",
    "ax = fig.add_subplot(111, projection=\"3d\")\n",
    "# scatter plot\n",
    "for i in range(10):\n",
    "    ax.scatter(\n",
    "        encoded_data_tsne_3d[label == i, 0],\n",
    "        encoded_data_tsne_3d[label == i, 1],\n",
    "        encoded_data_tsne_3d[label == i, 2],\n",
    "        alpha=0.5,\n",
    "        label=f\"Class {i}\",\n",
    "    )\n",
    "ax.legend()\n",
    "ax.set_xlabel(\"t-SNE 1\")\n",
    "ax.set_ylabel(\"t-SNE 2\")\n",
    "ax.set_zlabel(\"t-SNE 3\")\n",
    "plt.show()"
   ]
  },
  {
   "cell_type": "code",
   "execution_count": null,
   "id": "12",
   "metadata": {},
   "outputs": [],
   "source": []
  },
  {
   "cell_type": "code",
   "execution_count": null,
   "id": "13",
   "metadata": {},
   "outputs": [],
   "source": []
  },
  {
   "cell_type": "code",
   "execution_count": null,
   "id": "14",
   "metadata": {},
   "outputs": [],
   "source": []
  }
 ],
 "metadata": {
  "kernelspec": {
   "display_name": "ml-2025",
   "language": "python",
   "name": "python3"
  },
  "language_info": {
   "codemirror_mode": {
    "name": "ipython",
    "version": 3
   },
   "file_extension": ".py",
   "mimetype": "text/x-python",
   "name": "python",
   "nbconvert_exporter": "python",
   "pygments_lexer": "ipython3",
   "version": "3.12.9"
  }
 },
 "nbformat": 4,
 "nbformat_minor": 5
}
